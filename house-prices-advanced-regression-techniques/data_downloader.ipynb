{
 "cells": [
  {
   "cell_type": "markdown",
   "metadata": {},
   "source": [
    "# Imports"
   ]
  },
  {
   "cell_type": "code",
   "execution_count": 5,
   "metadata": {},
   "outputs": [],
   "source": [
    "import os"
   ]
  },
  {
   "cell_type": "markdown",
   "metadata": {},
   "source": [
    "# Functions"
   ]
  },
  {
   "cell_type": "code",
   "execution_count": 6,
   "metadata": {},
   "outputs": [],
   "source": [
    "def download_data(competition_name):\n",
    "    !kaggle competitions download -o -p data {competition_name}"
   ]
  },
  {
   "cell_type": "code",
   "execution_count": 7,
   "metadata": {},
   "outputs": [],
   "source": [
    "def get_competition_name():\n",
    "    return os.getcwd().split(os.sep)[-1]"
   ]
  },
  {
   "cell_type": "markdown",
   "metadata": {},
   "source": [
    "# Main"
   ]
  },
  {
   "cell_type": "code",
   "execution_count": 8,
   "metadata": {},
   "outputs": [
    {
     "name": "stdout",
     "output_type": "stream",
     "text": [
      "Downloading data_description.txt to data\n",
      "\n",
      "Downloading train.csv.gz to data\n",
      "\n",
      "Downloading train.csv to data\n",
      "\n",
      "Downloading test.csv.gz to data\n",
      "\n",
      "Downloading test.csv to data\n",
      "\n",
      "Downloading sample_submission.csv.gz to data\n",
      "\n",
      "Downloading sample_submission.csv to data\n",
      "\n"
     ]
    },
    {
     "name": "stderr",
     "output_type": "stream",
     "text": [
      "\n",
      "  0%|          | 0.00/13.1k [00:00<?, ?B/s]\n",
      "100%|##########| 13.1k/13.1k [00:00<00:00, 239kB/s]\n",
      "\n",
      "  0%|          | 0.00/89.2k [00:00<?, ?B/s]\n",
      "100%|##########| 89.2k/89.2k [00:00<00:00, 567kB/s]\n",
      "\n",
      "  0%|          | 0.00/450k [00:00<?, ?B/s]\n",
      "100%|##########| 450k/450k [00:00<00:00, 1.73MB/s]\n",
      "\n",
      "  0%|          | 0.00/82.0k [00:00<?, ?B/s]\n",
      "100%|##########| 82.0k/82.0k [00:00<00:00, 892kB/s]\n",
      "\n",
      "  0%|          | 0.00/441k [00:00<?, ?B/s]\n",
      "100%|##########| 441k/441k [00:00<00:00, 3.50MB/s]\n",
      "\n",
      "  0%|          | 0.00/15.3k [00:00<?, ?B/s]\n",
      "100%|##########| 15.3k/15.3k [00:00<00:00, 1.43MB/s]\n",
      "\n",
      "  0%|          | 0.00/31.2k [00:00<?, ?B/s]\n",
      "100%|##########| 31.2k/31.2k [00:00<00:00, 2.13MB/s]\n"
     ]
    }
   ],
   "source": [
    "download_data(get_competition_name())"
   ]
  },
  {
   "cell_type": "code",
   "execution_count": null,
   "metadata": {},
   "outputs": [],
   "source": []
  },
  {
   "cell_type": "code",
   "execution_count": null,
   "metadata": {},
   "outputs": [],
   "source": []
  }
 ],
 "metadata": {
  "celltoolbar": "Raw Cell Format",
  "kernelspec": {
   "display_name": "Python 3",
   "language": "python",
   "name": "python3"
  },
  "language_info": {
   "codemirror_mode": {
    "name": "ipython",
    "version": 3
   },
   "file_extension": ".py",
   "mimetype": "text/x-python",
   "name": "python",
   "nbconvert_exporter": "python",
   "pygments_lexer": "ipython3",
   "version": "3.7.0"
  },
  "varInspector": {
   "cols": {
    "lenName": 16,
    "lenType": 16,
    "lenVar": 40
   },
   "kernels_config": {
    "python": {
     "delete_cmd_postfix": "",
     "delete_cmd_prefix": "del ",
     "library": "var_list.py",
     "varRefreshCmd": "print(var_dic_list())"
    },
    "r": {
     "delete_cmd_postfix": ") ",
     "delete_cmd_prefix": "rm(",
     "library": "var_list.r",
     "varRefreshCmd": "cat(var_dic_list()) "
    }
   },
   "position": {
    "height": "144px",
    "left": "995px",
    "right": "20px",
    "top": "118px",
    "width": "350px"
   },
   "types_to_exclude": [
    "module",
    "function",
    "builtin_function_or_method",
    "instance",
    "_Feature"
   ],
   "window_display": true
  }
 },
 "nbformat": 4,
 "nbformat_minor": 2
}
