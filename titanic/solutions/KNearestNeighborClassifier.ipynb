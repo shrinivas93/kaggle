{
 "cells": [
  {
   "cell_type": "code",
   "execution_count": 19,
   "metadata": {},
   "outputs": [],
   "source": [
    "import pandas as pd\n",
    "import numpy as np\n",
    "from sklearn.cross_validation import train_test_split\n",
    "from sklearn.metrics import accuracy_score\n",
    "from sklearn.metrics import confusion_matrix\n",
    "from sklearn import tree"
   ]
  },
  {
   "cell_type": "code",
   "execution_count": 20,
   "metadata": {},
   "outputs": [],
   "source": [
    "ori_train_data = pd.read_csv('../data/train.csv')"
   ]
  },
  {
   "cell_type": "code",
   "execution_count": 21,
   "metadata": {},
   "outputs": [],
   "source": [
    "def process_data(data):\n",
    "    data['class_1'] = data.apply(lambda row: 1 if row['Pclass'] == 1 else 0, axis = 1)\n",
    "    data['class_2'] = data.apply(lambda row: 1 if row['Pclass'] == 2 else 0, axis = 1)\n",
    "    data['class_3'] = data.apply(lambda row: 1 if row['Pclass'] == 3 else 0, axis = 1)\n",
    "    data = data.drop(['Pclass'], axis=1)\n",
    "\n",
    "    data['gender_male'] = data.apply(lambda row: 1 if row['Sex'] == 'male' else 0, axis = 1)\n",
    "    data['gender_female'] = data.apply(lambda row: 1 if row['Sex'] == 'female' else 0, axis = 1)\n",
    "    data = data.drop(['Sex'], axis=1)\n",
    "\n",
    "    data['age_0-10'] = data.apply(lambda row: 1 if 0 <= row['Age'] < 10 else 0, axis = 1)\n",
    "    data['age_10-20'] = data.apply(lambda row: 1 if 10 <= row['Age'] < 20 else 0, axis = 1)\n",
    "    data['age_20-30'] = data.apply(lambda row: 1 if 20 <= row['Age'] < 30 else 0, axis = 1)\n",
    "    data['age_30-40'] = data.apply(lambda row: 1 if 30 <= row['Age'] < 40 else 0, axis = 1)\n",
    "    data['age_40-50'] = data.apply(lambda row: 1 if 40 <= row['Age'] < 50 else 0, axis = 1)\n",
    "    data['age_50-60'] = data.apply(lambda row: 1 if 50 <= row['Age'] < 60 else 0, axis = 1)\n",
    "    data['age_60-70'] = data.apply(lambda row: 1 if 60 <= row['Age'] < 70 else 0, axis = 1)\n",
    "    data['age_70-80'] = data.apply(lambda row: 1 if 70 <= row['Age'] < 80 else 0, axis = 1)\n",
    "    data['age_80-90'] = data.apply(lambda row: 1 if 80 <= row['Age'] < 90 else 0, axis = 1)\n",
    "    data['age_90-100'] = data.apply(lambda row: 1 if 90 <= row['Age'] < 100 else 0, axis = 1)\n",
    "    data = data.drop(['Age'], axis=1)\n",
    "\n",
    "    data['has_relatives'] = data.apply(lambda row: 1 if (row['SibSp'] + row['Parch']) != 0 else 0, axis = 1)\n",
    "    data = data.drop(['SibSp', 'Parch'], axis=1)\n",
    "\n",
    "    data['embarked_S'] = data.apply(lambda row: 1 if row['Embarked'] == 'S' else 0, axis = 1)\n",
    "    data['embarked_C'] = data.apply(lambda row: 1 if row['Embarked'] == 'C' else 0, axis = 1)\n",
    "    data['embarked_Q'] = data.apply(lambda row: 1 if row['Embarked'] == 'Q' else 0, axis = 1)\n",
    "    data = data.drop(['Embarked',], axis=1)\n",
    "\n",
    "    data = data.drop(['PassengerId', 'Name', 'Ticket', 'Fare', 'Cabin'], axis=1)\n",
    "    \n",
    "    return data"
   ]
  },
  {
   "cell_type": "code",
   "execution_count": 22,
   "metadata": {},
   "outputs": [],
   "source": [
    "train_data = process_data(ori_train_data)"
   ]
  },
  {
   "cell_type": "code",
   "execution_count": 23,
   "metadata": {},
   "outputs": [],
   "source": [
    "X = train_data.values[:, 1:]\n",
    "Y = train_data.values[:, 0]"
   ]
  },
  {
   "cell_type": "code",
   "execution_count": 24,
   "metadata": {},
   "outputs": [],
   "source": [
    "X_train, X_test, y_train, y_test = train_test_split( X, Y, test_size = 0.3, random_state = 100)"
   ]
  },
  {
   "cell_type": "code",
   "execution_count": 76,
   "metadata": {},
   "outputs": [
    {
     "data": {
      "text/plain": [
       "KNeighborsClassifier(algorithm='auto', leaf_size=30, metric='minkowski',\n",
       "           metric_params=None, n_jobs=1, n_neighbors=5, p=2,\n",
       "           weights='uniform')"
      ]
     },
     "execution_count": 76,
     "metadata": {},
     "output_type": "execute_result"
    }
   ],
   "source": [
    "from sklearn.neighbors import KNeighborsClassifier\n",
    "clf_gini = KNeighborsClassifier(n_neighbors=5)\n",
    "clf_gini.fit(X_train, y_train)"
   ]
  },
  {
   "cell_type": "code",
   "execution_count": 77,
   "metadata": {},
   "outputs": [
    {
     "name": "stdout",
     "output_type": "stream",
     "text": [
      "Accuracy is  79.47761194029852\n"
     ]
    },
    {
     "data": {
      "text/plain": [
       "array([[145,  14],\n",
       "       [ 41,  68]], dtype=int64)"
      ]
     },
     "execution_count": 77,
     "metadata": {},
     "output_type": "execute_result"
    }
   ],
   "source": [
    "y_pred_gini = clf_gini.predict(X_test)\n",
    "print('Accuracy is ', accuracy_score(y_test,y_pred_gini) * 100)\n",
    "confusion_matrix(y_test,y_pred_gini)"
   ]
  },
  {
   "cell_type": "code",
   "execution_count": 78,
   "metadata": {},
   "outputs": [],
   "source": [
    "ori_test_data = pd.read_csv('../data/test.csv')"
   ]
  },
  {
   "cell_type": "code",
   "execution_count": 79,
   "metadata": {},
   "outputs": [],
   "source": [
    "test_data = process_data(ori_test_data)"
   ]
  },
  {
   "cell_type": "code",
   "execution_count": 80,
   "metadata": {},
   "outputs": [],
   "source": [
    "y_test_gini = clf_gini.predict(test_data)"
   ]
  },
  {
   "cell_type": "code",
   "execution_count": 81,
   "metadata": {},
   "outputs": [],
   "source": [
    "passenger_ids = ori_test_data.values[:, 0]"
   ]
  },
  {
   "cell_type": "code",
   "execution_count": 82,
   "metadata": {},
   "outputs": [],
   "source": [
    "df = pd.DataFrame({'PassengerId':passenger_ids, 'Survived':y_test_gini})"
   ]
  },
  {
   "cell_type": "code",
   "execution_count": 83,
   "metadata": {},
   "outputs": [],
   "source": [
    "df.to_csv('../output/knn_prediction.csv', index=False)"
   ]
  },
  {
   "cell_type": "code",
   "execution_count": null,
   "metadata": {},
   "outputs": [],
   "source": []
  }
 ],
 "metadata": {
  "kernelspec": {
   "display_name": "Python 3",
   "language": "python",
   "name": "python3"
  },
  "language_info": {
   "codemirror_mode": {
    "name": "ipython",
    "version": 3
   },
   "file_extension": ".py",
   "mimetype": "text/x-python",
   "name": "python",
   "nbconvert_exporter": "python",
   "pygments_lexer": "ipython3",
   "version": "3.7.0"
  },
  "varInspector": {
   "cols": {
    "lenName": 16,
    "lenType": 16,
    "lenVar": 40
   },
   "kernels_config": {
    "python": {
     "delete_cmd_postfix": "",
     "delete_cmd_prefix": "del ",
     "library": "var_list.py",
     "varRefreshCmd": "print(var_dic_list())"
    },
    "r": {
     "delete_cmd_postfix": ") ",
     "delete_cmd_prefix": "rm(",
     "library": "var_list.r",
     "varRefreshCmd": "cat(var_dic_list()) "
    }
   },
   "types_to_exclude": [
    "module",
    "function",
    "builtin_function_or_method",
    "instance",
    "_Feature"
   ],
   "window_display": true
  }
 },
 "nbformat": 4,
 "nbformat_minor": 2
}
